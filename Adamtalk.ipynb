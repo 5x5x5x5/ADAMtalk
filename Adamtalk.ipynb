{
 "cells": [
  {
   "cell_type": "markdown",
   "metadata": {
    "slideshow": {
     "slide_type": "slide"
    }
   },
   "source": [
    "# Next Generation Genomic Analysis with Spark and ADAM\n",
    "\n"
   ]
  },
  {
   "cell_type": "markdown",
   "metadata": {
    "slideshow": {
     "slide_type": "slide"
    }
   },
   "source": [
    "### Data deluge from Next Gen Sequencing\n",
    "\n",
    "- 1 Human Genome = 3.2 billion base pairs (bps)\n",
    "- Assembled from fragments of 100 to 250bps\n",
    "- 60X replication of genome needed for statistical soundness\n",
    "- so 1.4 billion fragments gives you ~200GB of data\n",
    "\n",
    "### All that for about $1000\n",
    "\n",
    "- Then, alignment against a reference (for humans and a few model organisms)\n",
    "- Pipelines take that 200GB input >> 1 - 3 GB output\n"
   ]
  },
  {
   "cell_type": "markdown",
   "metadata": {
    "slideshow": {
     "slide_type": "slide"
    }
   },
   "source": [
    "## But, what does it all mean?\n",
    "- Still the early days of genomic sciences\n",
    "- This is the question scientists would like to spend time on\n",
    "- Current pipelines can take days\n",
    "## Many more sequencing opportunities\n",
    "- De novo assembly of new species\n",
    "- microbiome\n",
    "- RNAseq"
   ]
  },
  {
   "cell_type": "markdown",
   "metadata": {
    "slideshow": {
     "slide_type": "slide"
    }
   },
   "source": [
    "## Current pipeline\n",
    "- Many different command line tools chained together\n",
    "\n",
    "### [Genome Analysis Tool Kit](https://www.broadinstitute.org/gatk/)\n",
    "\n",
    "<img src=img/gatk.png>"
   ]
  },
  {
   "cell_type": "markdown",
   "metadata": {
    "slideshow": {
     "slide_type": "slide"
    }
   },
   "source": [
    "## Next Gen Analysis for Next Gen Sequencing \n",
    "\n",
    "\n"
   ]
  }
 ],
 "metadata": {
  "celltoolbar": "Slideshow",
  "kernelspec": {
   "display_name": "Python 3",
   "language": "python",
   "name": "python3"
  },
  "language_info": {
   "codemirror_mode": {
    "name": "ipython",
    "version": 3
   },
   "file_extension": ".py",
   "mimetype": "text/x-python",
   "name": "python",
   "nbconvert_exporter": "python",
   "pygments_lexer": "ipython3",
   "version": "3.4.3"
  }
 },
 "nbformat": 4,
 "nbformat_minor": 0
}
